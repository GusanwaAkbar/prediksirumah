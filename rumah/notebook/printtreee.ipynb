{
 "cells": [
  {
   "cell_type": "code",
   "execution_count": 1,
   "id": "7d52b29f",
   "metadata": {},
   "outputs": [],
   "source": [
    "import pandas as pd\n",
    "import numpy as np\n",
    "import sklearn\n",
    "\n",
    "from sklearn.model_selection import train_test_split\n",
    "from sklearn.ensemble import RandomForestRegressor\n",
    "from sklearn.metrics import mean_squared_error\n",
    "\n",
    "from sklearn.linear_model import LinearRegression\n",
    "from joblib import dump\n",
    "from joblib import load\n",
    "\n",
    "import seaborn as sns\n",
    "\n",
    "from sklearn.preprocessing import LabelEncoder\n",
    "import matplotlib.pyplot as plt\n",
    "\n",
    "from sklearn.model_selection import train_test_split\n",
    "from sklearn.ensemble import RandomForestRegressor\n",
    "from sklearn.tree import plot_tree\n",
    "import matplotlib.pyplot as plt\n"
   ]
  },
  {
   "cell_type": "code",
   "execution_count": 2,
   "id": "682927fb",
   "metadata": {},
   "outputs": [
    {
     "data": {
      "text/html": [
       "<div>\n",
       "<style scoped>\n",
       "    .dataframe tbody tr th:only-of-type {\n",
       "        vertical-align: middle;\n",
       "    }\n",
       "\n",
       "    .dataframe tbody tr th {\n",
       "        vertical-align: top;\n",
       "    }\n",
       "\n",
       "    .dataframe thead th {\n",
       "        text-align: right;\n",
       "    }\n",
       "</style>\n",
       "<table border=\"1\" class=\"dataframe\">\n",
       "  <thead>\n",
       "    <tr style=\"text-align: right;\">\n",
       "      <th></th>\n",
       "      <th>id</th>\n",
       "      <th>Bulan</th>\n",
       "      <th>No.</th>\n",
       "      <th>No_laporan</th>\n",
       "      <th>Tanggal_laporan</th>\n",
       "      <th>Tanggal_penilaian</th>\n",
       "      <th>NO_SP</th>\n",
       "      <th>Tanggal_SP</th>\n",
       "      <th>Nama_debitur</th>\n",
       "      <th>Nama_Pemberi_Tugas</th>\n",
       "      <th>...</th>\n",
       "      <th>ppn</th>\n",
       "      <th>Indikasi_nilai</th>\n",
       "      <th>Kesimpulan_nilai</th>\n",
       "      <th>Report</th>\n",
       "      <th>Titik_koordinat</th>\n",
       "      <th>Nama</th>\n",
       "      <th>Jumlah_kamar</th>\n",
       "      <th>Jumlah_kamarmandi</th>\n",
       "      <th>Jumlah_lantai</th>\n",
       "      <th>Pusat_kota</th>\n",
       "    </tr>\n",
       "  </thead>\n",
       "  <tbody>\n",
       "    <tr>\n",
       "      <th>1</th>\n",
       "      <td>37</td>\n",
       "      <td>Juni</td>\n",
       "      <td>37</td>\n",
       "      <td>00173/2.0045-02/PI/07/PS.0205/1/VI/2021</td>\n",
       "      <td>21 Juni 2021</td>\n",
       "      <td>05 Mei 2021</td>\n",
       "      <td>130402.02-PNR/SIG-MLG/AIG/IV/21</td>\n",
       "      <td>13 April 2021</td>\n",
       "      <td>Mohamad Romli</td>\n",
       "      <td>PT. Bank Negara Indonesia (Persero) Tbk.</td>\n",
       "      <td>...</td>\n",
       "      <td>350000</td>\n",
       "      <td>1000000</td>\n",
       "      <td>1692200000</td>\n",
       "      <td>Long Report</td>\n",
       "      <td>-8.434607, 114.338428</td>\n",
       "      <td>MUHAMAD ROMLI</td>\n",
       "      <td>1</td>\n",
       "      <td>1</td>\n",
       "      <td>2</td>\n",
       "      <td>PinggirKota</td>\n",
       "    </tr>\n",
       "    <tr>\n",
       "      <th>2</th>\n",
       "      <td>22</td>\n",
       "      <td>Juni</td>\n",
       "      <td>22</td>\n",
       "      <td>00158/2.0045-02/PI/07/PS.0205/1/VI/2021</td>\n",
       "      <td>18 Juni 2021</td>\n",
       "      <td>04 Juni 2021</td>\n",
       "      <td>050501.02-PNR/SIG-MLG/AIG/V/21</td>\n",
       "      <td>05 Mei 2021</td>\n",
       "      <td>Yudi Hartanto</td>\n",
       "      <td>PT. Bank Syariah Indonesia, Tbk.</td>\n",
       "      <td>...</td>\n",
       "      <td>318182</td>\n",
       "      <td>1300000</td>\n",
       "      <td>122700000</td>\n",
       "      <td>Long Report</td>\n",
       "      <td>-8.431549, 114.336030</td>\n",
       "      <td>AJAI GOVIN GUSTIKA</td>\n",
       "      <td>3</td>\n",
       "      <td>1</td>\n",
       "      <td>2</td>\n",
       "      <td>PinggirKota</td>\n",
       "    </tr>\n",
       "    <tr>\n",
       "      <th>3</th>\n",
       "      <td>23</td>\n",
       "      <td>Juni</td>\n",
       "      <td>23</td>\n",
       "      <td>00159/2.0045-02/PI/07/PS.0205/1/VI/2021</td>\n",
       "      <td>18 Juni 2021</td>\n",
       "      <td>04 Juni 2021</td>\n",
       "      <td>050501.02-PNR/SIG-MLG/AIG/V/21</td>\n",
       "      <td>05 Mei 2021</td>\n",
       "      <td>Yudi Hartanto</td>\n",
       "      <td>PT. Bank Syariah Indonesia, Tbk.</td>\n",
       "      <td>...</td>\n",
       "      <td>318182</td>\n",
       "      <td>1000000</td>\n",
       "      <td>885000000</td>\n",
       "      <td>Long Report</td>\n",
       "      <td>-8.426518, 114.324317</td>\n",
       "      <td>IKA ANDRIANI</td>\n",
       "      <td>0</td>\n",
       "      <td>0</td>\n",
       "      <td>0</td>\n",
       "      <td>PinggirKota</td>\n",
       "    </tr>\n",
       "    <tr>\n",
       "      <th>4</th>\n",
       "      <td>24</td>\n",
       "      <td>Juni</td>\n",
       "      <td>24</td>\n",
       "      <td>00160/2.0045-02/PI/07/PS.0205/1/VI/2021</td>\n",
       "      <td>18 Juni 2021</td>\n",
       "      <td>04 Juni 2021</td>\n",
       "      <td>050501.02-PNR/SIG-MLG/AIG/V/21</td>\n",
       "      <td>09 Mei 2021</td>\n",
       "      <td>Yudi Hartanto</td>\n",
       "      <td>PT. Bank Syariah Indonesia, Tbk.</td>\n",
       "      <td>...</td>\n",
       "      <td>318182</td>\n",
       "      <td>1100000</td>\n",
       "      <td>2070400000</td>\n",
       "      <td>Long Report</td>\n",
       "      <td>-8.418349, 114.337703</td>\n",
       "      <td>ARIF BASUKI, Sarjana Sains Terapan</td>\n",
       "      <td>2</td>\n",
       "      <td>1</td>\n",
       "      <td>1</td>\n",
       "      <td>PinggirKota</td>\n",
       "    </tr>\n",
       "    <tr>\n",
       "      <th>5</th>\n",
       "      <td>36</td>\n",
       "      <td>Juni</td>\n",
       "      <td>36</td>\n",
       "      <td>00172/2.0045-02/PI/07/PS.0205/1/VI/2021</td>\n",
       "      <td>21 Juni 2021</td>\n",
       "      <td>05 Mei 2021</td>\n",
       "      <td>130402.02-PNR/SIG-MLG/AIG/IV/21</td>\n",
       "      <td>13 April 2021</td>\n",
       "      <td>Iwan Wahyudi</td>\n",
       "      <td>PT. Bank Negara Indonesia (Persero) Tbk.</td>\n",
       "      <td>...</td>\n",
       "      <td>300000</td>\n",
       "      <td>2600000</td>\n",
       "      <td>1658100000</td>\n",
       "      <td>Long Report</td>\n",
       "      <td>-8.202230, 113.618496</td>\n",
       "      <td>SOETIHA</td>\n",
       "      <td>2</td>\n",
       "      <td>1</td>\n",
       "      <td>2</td>\n",
       "      <td>PusatKota</td>\n",
       "    </tr>\n",
       "    <tr>\n",
       "      <th>...</th>\n",
       "      <td>...</td>\n",
       "      <td>...</td>\n",
       "      <td>...</td>\n",
       "      <td>...</td>\n",
       "      <td>...</td>\n",
       "      <td>...</td>\n",
       "      <td>...</td>\n",
       "      <td>...</td>\n",
       "      <td>...</td>\n",
       "      <td>...</td>\n",
       "      <td>...</td>\n",
       "      <td>...</td>\n",
       "      <td>...</td>\n",
       "      <td>...</td>\n",
       "      <td>...</td>\n",
       "      <td>...</td>\n",
       "      <td>...</td>\n",
       "      <td>...</td>\n",
       "      <td>...</td>\n",
       "      <td>...</td>\n",
       "      <td>...</td>\n",
       "    </tr>\n",
       "    <tr>\n",
       "      <th>72</th>\n",
       "      <td>51</td>\n",
       "      <td>Juni</td>\n",
       "      <td>4</td>\n",
       "      <td>00187/2.0045-02/PI/07/PS.0205/1/VII/2021</td>\n",
       "      <td>06 Juli 2021</td>\n",
       "      <td>28 Juni 2021</td>\n",
       "      <td>080601.02-PNR/SIG-MLG/AIG/VI/21</td>\n",
       "      <td>08 Juni 2021</td>\n",
       "      <td>Harsono</td>\n",
       "      <td>PT. Bank Negara Indonesia (Persero) Tbk.</td>\n",
       "      <td>...</td>\n",
       "      <td>418182</td>\n",
       "      <td>5500000</td>\n",
       "      <td>1211500000</td>\n",
       "      <td>Long Report</td>\n",
       "      <td>-7.873751, 112.527889</td>\n",
       "      <td>HARSONO</td>\n",
       "      <td>4</td>\n",
       "      <td>1</td>\n",
       "      <td>2</td>\n",
       "      <td>PusatKota</td>\n",
       "    </tr>\n",
       "    <tr>\n",
       "      <th>73</th>\n",
       "      <td>76</td>\n",
       "      <td>Agustus</td>\n",
       "      <td>1</td>\n",
       "      <td>00212/2.0045-02/PI/07/PS.0205/1/VIII/2021</td>\n",
       "      <td>02 Agustus 2021</td>\n",
       "      <td>05 Juli 2021</td>\n",
       "      <td>160605.02-PNR/SIG-MLG/AIG/VI/21</td>\n",
       "      <td>16 Juni 2021</td>\n",
       "      <td>Susmiati</td>\n",
       "      <td>PT. Bank CIMB Niaga Tbk.</td>\n",
       "      <td>...</td>\n",
       "      <td>363636</td>\n",
       "      <td>1800000</td>\n",
       "      <td>428400000</td>\n",
       "      <td>Long Report</td>\n",
       "      <td>-7.819947, 111.997559</td>\n",
       "      <td>SUSMIATI, Sarjana Keperawatan, Magister Pendid...</td>\n",
       "      <td>2</td>\n",
       "      <td>1</td>\n",
       "      <td>1</td>\n",
       "      <td>PusatKota</td>\n",
       "    </tr>\n",
       "    <tr>\n",
       "      <th>74</th>\n",
       "      <td>77</td>\n",
       "      <td>Agustus</td>\n",
       "      <td>1</td>\n",
       "      <td>00212/2.0045-02/PI/07/PS.0205/1/VIII/2021</td>\n",
       "      <td>02 Agustus 2021</td>\n",
       "      <td>05 Juli 2021</td>\n",
       "      <td>160605.02-PNR/SIG-MLG/AIG/VI/21</td>\n",
       "      <td>16 Juni 2021</td>\n",
       "      <td>Susmiati</td>\n",
       "      <td>PT. Bank CIMB Niaga Tbk.</td>\n",
       "      <td>...</td>\n",
       "      <td>363636</td>\n",
       "      <td>1800000</td>\n",
       "      <td>428400000</td>\n",
       "      <td>Long Report</td>\n",
       "      <td>-7.819947, 111.997559</td>\n",
       "      <td>SUSMIATI, Sarjana Keperawatan, Magister Pendid...</td>\n",
       "      <td>2</td>\n",
       "      <td>1</td>\n",
       "      <td>1</td>\n",
       "      <td>PusatKota</td>\n",
       "    </tr>\n",
       "    <tr>\n",
       "      <th>75</th>\n",
       "      <td>48</td>\n",
       "      <td>Juni</td>\n",
       "      <td>1</td>\n",
       "      <td>00184/2.0045-02/PI/07/PS.0205/1/VII/2021</td>\n",
       "      <td>05 Juli 2021</td>\n",
       "      <td>17 Juni 2021</td>\n",
       "      <td>310503.02-PNR/SIG-MLG/AIG/V/21</td>\n",
       "      <td>31 Mei 2021</td>\n",
       "      <td>Ambarwati</td>\n",
       "      <td>PT. Bank CIMB Niaga Tbk.</td>\n",
       "      <td>...</td>\n",
       "      <td>363636</td>\n",
       "      <td>1400000</td>\n",
       "      <td>255000000</td>\n",
       "      <td>Long Report</td>\n",
       "      <td>-7.623087, 111.507036</td>\n",
       "      <td>Nyonya AMBARWATI</td>\n",
       "      <td>2</td>\n",
       "      <td>1</td>\n",
       "      <td>1</td>\n",
       "      <td>PusatKota</td>\n",
       "    </tr>\n",
       "    <tr>\n",
       "      <th>76</th>\n",
       "      <td>49</td>\n",
       "      <td>Juni</td>\n",
       "      <td>2</td>\n",
       "      <td>00185/2.0045-02/PI/07/PS.0205/1/VII/2021</td>\n",
       "      <td>06 Juli 2021</td>\n",
       "      <td>04 Juli 2021</td>\n",
       "      <td>160602.02-PNR/SIG-MLG/AIG/VI/21</td>\n",
       "      <td>16 Juni 2021</td>\n",
       "      <td>Marlina Sri Kushartini</td>\n",
       "      <td>PT. Bank CIMB Niaga Tbk.</td>\n",
       "      <td>...</td>\n",
       "      <td>363636</td>\n",
       "      <td>900000</td>\n",
       "      <td>1009000000</td>\n",
       "      <td>Long Report</td>\n",
       "      <td>-7.566907, 111.848717</td>\n",
       "      <td>MARLINA SRI KUSHARTINI, S.pi.</td>\n",
       "      <td>2</td>\n",
       "      <td>1</td>\n",
       "      <td>1</td>\n",
       "      <td>PusatKota</td>\n",
       "    </tr>\n",
       "  </tbody>\n",
       "</table>\n",
       "<p>76 rows × 32 columns</p>\n",
       "</div>"
      ],
      "text/plain": [
       "    id    Bulan  No.                                 No_laporan  \\\n",
       "1   37     Juni   37    00173/2.0045-02/PI/07/PS.0205/1/VI/2021   \n",
       "2   22     Juni   22    00158/2.0045-02/PI/07/PS.0205/1/VI/2021   \n",
       "3   23     Juni   23    00159/2.0045-02/PI/07/PS.0205/1/VI/2021   \n",
       "4   24     Juni   24    00160/2.0045-02/PI/07/PS.0205/1/VI/2021   \n",
       "5   36     Juni   36    00172/2.0045-02/PI/07/PS.0205/1/VI/2021   \n",
       "..  ..      ...  ...                                        ...   \n",
       "72  51     Juni    4   00187/2.0045-02/PI/07/PS.0205/1/VII/2021   \n",
       "73  76  Agustus    1  00212/2.0045-02/PI/07/PS.0205/1/VIII/2021   \n",
       "74  77  Agustus    1  00212/2.0045-02/PI/07/PS.0205/1/VIII/2021   \n",
       "75  48     Juni    1   00184/2.0045-02/PI/07/PS.0205/1/VII/2021   \n",
       "76  49     Juni    2   00185/2.0045-02/PI/07/PS.0205/1/VII/2021   \n",
       "\n",
       "    Tanggal_laporan Tanggal_penilaian                            NO_SP  \\\n",
       "1      21 Juni 2021       05 Mei 2021  130402.02-PNR/SIG-MLG/AIG/IV/21   \n",
       "2      18 Juni 2021      04 Juni 2021   050501.02-PNR/SIG-MLG/AIG/V/21   \n",
       "3      18 Juni 2021      04 Juni 2021   050501.02-PNR/SIG-MLG/AIG/V/21   \n",
       "4      18 Juni 2021      04 Juni 2021   050501.02-PNR/SIG-MLG/AIG/V/21   \n",
       "5      21 Juni 2021       05 Mei 2021  130402.02-PNR/SIG-MLG/AIG/IV/21   \n",
       "..              ...               ...                              ...   \n",
       "72     06 Juli 2021      28 Juni 2021  080601.02-PNR/SIG-MLG/AIG/VI/21   \n",
       "73  02 Agustus 2021      05 Juli 2021  160605.02-PNR/SIG-MLG/AIG/VI/21   \n",
       "74  02 Agustus 2021      05 Juli 2021  160605.02-PNR/SIG-MLG/AIG/VI/21   \n",
       "75     05 Juli 2021      17 Juni 2021   310503.02-PNR/SIG-MLG/AIG/V/21   \n",
       "76     06 Juli 2021      04 Juli 2021  160602.02-PNR/SIG-MLG/AIG/VI/21   \n",
       "\n",
       "       Tanggal_SP            Nama_debitur  \\\n",
       "1   13 April 2021           Mohamad Romli   \n",
       "2     05 Mei 2021           Yudi Hartanto   \n",
       "3     05 Mei 2021           Yudi Hartanto   \n",
       "4     09 Mei 2021           Yudi Hartanto   \n",
       "5   13 April 2021            Iwan Wahyudi   \n",
       "..            ...                     ...   \n",
       "72   08 Juni 2021                 Harsono   \n",
       "73   16 Juni 2021                Susmiati   \n",
       "74   16 Juni 2021                Susmiati   \n",
       "75    31 Mei 2021               Ambarwati   \n",
       "76   16 Juni 2021  Marlina Sri Kushartini   \n",
       "\n",
       "                          Nama_Pemberi_Tugas  ...     ppn Indikasi_nilai  \\\n",
       "1   PT. Bank Negara Indonesia (Persero) Tbk.  ...  350000        1000000   \n",
       "2           PT. Bank Syariah Indonesia, Tbk.  ...  318182        1300000   \n",
       "3           PT. Bank Syariah Indonesia, Tbk.  ...  318182        1000000   \n",
       "4           PT. Bank Syariah Indonesia, Tbk.  ...  318182        1100000   \n",
       "5   PT. Bank Negara Indonesia (Persero) Tbk.  ...  300000        2600000   \n",
       "..                                       ...  ...     ...            ...   \n",
       "72  PT. Bank Negara Indonesia (Persero) Tbk.  ...  418182        5500000   \n",
       "73                  PT. Bank CIMB Niaga Tbk.  ...  363636        1800000   \n",
       "74                  PT. Bank CIMB Niaga Tbk.  ...  363636        1800000   \n",
       "75                  PT. Bank CIMB Niaga Tbk.  ...  363636        1400000   \n",
       "76                  PT. Bank CIMB Niaga Tbk.  ...  363636         900000   \n",
       "\n",
       "   Kesimpulan_nilai       Report        Titik_koordinat  \\\n",
       "1        1692200000  Long Report  -8.434607, 114.338428   \n",
       "2         122700000  Long Report  -8.431549, 114.336030   \n",
       "3         885000000  Long Report  -8.426518, 114.324317   \n",
       "4        2070400000  Long Report  -8.418349, 114.337703   \n",
       "5        1658100000  Long Report  -8.202230, 113.618496   \n",
       "..              ...          ...                    ...   \n",
       "72       1211500000  Long Report  -7.873751, 112.527889   \n",
       "73        428400000  Long Report  -7.819947, 111.997559   \n",
       "74        428400000  Long Report  -7.819947, 111.997559   \n",
       "75        255000000  Long Report  -7.623087, 111.507036   \n",
       "76       1009000000  Long Report  -7.566907, 111.848717   \n",
       "\n",
       "                                                 Nama Jumlah_kamar  \\\n",
       "1                                       MUHAMAD ROMLI            1   \n",
       "2                                  AJAI GOVIN GUSTIKA            3   \n",
       "3                                        IKA ANDRIANI            0   \n",
       "4                  ARIF BASUKI, Sarjana Sains Terapan            2   \n",
       "5                                             SOETIHA            2   \n",
       "..                                                ...          ...   \n",
       "72                                            HARSONO            4   \n",
       "73  SUSMIATI, Sarjana Keperawatan, Magister Pendid...            2   \n",
       "74  SUSMIATI, Sarjana Keperawatan, Magister Pendid...            2   \n",
       "75                                   Nyonya AMBARWATI            2   \n",
       "76                      MARLINA SRI KUSHARTINI, S.pi.            2   \n",
       "\n",
       "   Jumlah_kamarmandi Jumlah_lantai   Pusat_kota  \n",
       "1                  1             2  PinggirKota  \n",
       "2                  1             2  PinggirKota  \n",
       "3                  0             0  PinggirKota  \n",
       "4                  1             1  PinggirKota  \n",
       "5                  1             2    PusatKota  \n",
       "..               ...           ...          ...  \n",
       "72                 1             2    PusatKota  \n",
       "73                 1             1    PusatKota  \n",
       "74                 1             1    PusatKota  \n",
       "75                 1             1    PusatKota  \n",
       "76                 1             1    PusatKota  \n",
       "\n",
       "[76 rows x 32 columns]"
      ]
     },
     "execution_count": 2,
     "metadata": {},
     "output_type": "execute_result"
    }
   ],
   "source": [
    "df = pd.read_csv('data4.csv')\n",
    "df = df.drop(df.index[0])\n",
    "df"
   ]
  },
  {
   "cell_type": "code",
   "execution_count": 3,
   "id": "053785ee",
   "metadata": {},
   "outputs": [
    {
     "name": "stdout",
     "output_type": "stream",
     "text": [
      "['id', 'Bulan', 'No.', 'No_laporan', 'Tanggal_laporan', 'Tanggal_penilaian', 'NO_SP', 'Tanggal_SP', 'Nama_debitur', 'Nama_Pemberi_Tugas', 'Tujuan', 'Obyek', 'Lokasi', 'Kota/Kabupaten', 'LT', 'LB', 'CP', 'Supervisi', 'Penilai', 'Pelaksana', 'Fee_total', 'dpp', 'ppn', 'Indikasi_nilai', 'Kesimpulan_nilai', 'Report', 'Titik_koordinat', 'Nama', 'Jumlah_kamar', 'Jumlah_kamarmandi', 'Jumlah_lantai', 'Pusat_kota']\n"
     ]
    }
   ],
   "source": [
    "column =  df.columns.tolist()\n",
    "print(column)"
   ]
  },
  {
   "cell_type": "markdown",
   "id": "638e780d",
   "metadata": {},
   "source": [
    "# SETTING DATA FEATURES"
   ]
  },
  {
   "cell_type": "code",
   "execution_count": 4,
   "id": "c01e6252",
   "metadata": {},
   "outputs": [
    {
     "data": {
      "text/html": [
       "<div>\n",
       "<style scoped>\n",
       "    .dataframe tbody tr th:only-of-type {\n",
       "        vertical-align: middle;\n",
       "    }\n",
       "\n",
       "    .dataframe tbody tr th {\n",
       "        vertical-align: top;\n",
       "    }\n",
       "\n",
       "    .dataframe thead th {\n",
       "        text-align: right;\n",
       "    }\n",
       "</style>\n",
       "<table border=\"1\" class=\"dataframe\">\n",
       "  <thead>\n",
       "    <tr style=\"text-align: right;\">\n",
       "      <th></th>\n",
       "      <th>Kota/Kabupaten</th>\n",
       "      <th>LT</th>\n",
       "      <th>LB</th>\n",
       "      <th>Tujuan</th>\n",
       "      <th>Obyek</th>\n",
       "      <th>Indikasi_nilai</th>\n",
       "      <th>Jumlah_kamar</th>\n",
       "      <th>Jumlah_kamarmandi</th>\n",
       "      <th>Jumlah_lantai</th>\n",
       "      <th>Pusat_kota</th>\n",
       "    </tr>\n",
       "  </thead>\n",
       "  <tbody>\n",
       "    <tr>\n",
       "      <th>1</th>\n",
       "      <td>Kab. Banyuwangi</td>\n",
       "      <td>629</td>\n",
       "      <td>596</td>\n",
       "      <td>Lelang</td>\n",
       "      <td>Rumah Tinggal</td>\n",
       "      <td>1000000</td>\n",
       "      <td>1</td>\n",
       "      <td>1</td>\n",
       "      <td>2</td>\n",
       "      <td>PinggirKota</td>\n",
       "    </tr>\n",
       "    <tr>\n",
       "      <th>2</th>\n",
       "      <td>Kab. Banyuwangi</td>\n",
       "      <td>29</td>\n",
       "      <td>52</td>\n",
       "      <td>Lelang</td>\n",
       "      <td>Rumah Tinggal</td>\n",
       "      <td>1300000</td>\n",
       "      <td>3</td>\n",
       "      <td>1</td>\n",
       "      <td>2</td>\n",
       "      <td>PinggirKota</td>\n",
       "    </tr>\n",
       "    <tr>\n",
       "      <th>3</th>\n",
       "      <td>Kab. Banyuwangi</td>\n",
       "      <td>885</td>\n",
       "      <td>0</td>\n",
       "      <td>Lelang</td>\n",
       "      <td>Tanah Kosong</td>\n",
       "      <td>1000000</td>\n",
       "      <td>0</td>\n",
       "      <td>0</td>\n",
       "      <td>0</td>\n",
       "      <td>PinggirKota</td>\n",
       "    </tr>\n",
       "    <tr>\n",
       "      <th>4</th>\n",
       "      <td>Kab. Banyuwangi</td>\n",
       "      <td>1208</td>\n",
       "      <td>234</td>\n",
       "      <td>Lelang</td>\n",
       "      <td>Rumah Tinggal</td>\n",
       "      <td>1100000</td>\n",
       "      <td>2</td>\n",
       "      <td>1</td>\n",
       "      <td>1</td>\n",
       "      <td>PinggirKota</td>\n",
       "    </tr>\n",
       "    <tr>\n",
       "      <th>5</th>\n",
       "      <td>Kab. Jember</td>\n",
       "      <td>291</td>\n",
       "      <td>259</td>\n",
       "      <td>Lelang</td>\n",
       "      <td>Rumah Tinggal</td>\n",
       "      <td>2600000</td>\n",
       "      <td>2</td>\n",
       "      <td>1</td>\n",
       "      <td>2</td>\n",
       "      <td>PusatKota</td>\n",
       "    </tr>\n",
       "    <tr>\n",
       "      <th>...</th>\n",
       "      <td>...</td>\n",
       "      <td>...</td>\n",
       "      <td>...</td>\n",
       "      <td>...</td>\n",
       "      <td>...</td>\n",
       "      <td>...</td>\n",
       "      <td>...</td>\n",
       "      <td>...</td>\n",
       "      <td>...</td>\n",
       "      <td>...</td>\n",
       "    </tr>\n",
       "    <tr>\n",
       "      <th>72</th>\n",
       "      <td>Kota Batu</td>\n",
       "      <td>113</td>\n",
       "      <td>184</td>\n",
       "      <td>Lelang</td>\n",
       "      <td>Rumah Tinggal</td>\n",
       "      <td>5500000</td>\n",
       "      <td>4</td>\n",
       "      <td>1</td>\n",
       "      <td>2</td>\n",
       "      <td>PusatKota</td>\n",
       "    </tr>\n",
       "    <tr>\n",
       "      <th>73</th>\n",
       "      <td>Kota Kediri</td>\n",
       "      <td>138</td>\n",
       "      <td>100</td>\n",
       "      <td>Lelang</td>\n",
       "      <td>Rumah Tinggal</td>\n",
       "      <td>1800000</td>\n",
       "      <td>2</td>\n",
       "      <td>1</td>\n",
       "      <td>1</td>\n",
       "      <td>PusatKota</td>\n",
       "    </tr>\n",
       "    <tr>\n",
       "      <th>74</th>\n",
       "      <td>Kota Kediri</td>\n",
       "      <td>138</td>\n",
       "      <td>100</td>\n",
       "      <td>Lelang</td>\n",
       "      <td>Rumah Tinggal</td>\n",
       "      <td>1800000</td>\n",
       "      <td>2</td>\n",
       "      <td>1</td>\n",
       "      <td>1</td>\n",
       "      <td>PusatKota</td>\n",
       "    </tr>\n",
       "    <tr>\n",
       "      <th>75</th>\n",
       "      <td>Kota Madiun</td>\n",
       "      <td>84</td>\n",
       "      <td>55</td>\n",
       "      <td>Lelang</td>\n",
       "      <td>Rumah Tinggal</td>\n",
       "      <td>1400000</td>\n",
       "      <td>2</td>\n",
       "      <td>1</td>\n",
       "      <td>1</td>\n",
       "      <td>PusatKota</td>\n",
       "    </tr>\n",
       "    <tr>\n",
       "      <th>76</th>\n",
       "      <td>Kab. Nganjuk</td>\n",
       "      <td>402</td>\n",
       "      <td>462</td>\n",
       "      <td>Lelang</td>\n",
       "      <td>Rumah Tinggal</td>\n",
       "      <td>900000</td>\n",
       "      <td>2</td>\n",
       "      <td>1</td>\n",
       "      <td>1</td>\n",
       "      <td>PusatKota</td>\n",
       "    </tr>\n",
       "  </tbody>\n",
       "</table>\n",
       "<p>76 rows × 10 columns</p>\n",
       "</div>"
      ],
      "text/plain": [
       "     Kota/Kabupaten    LT   LB  Tujuan          Obyek  Indikasi_nilai  \\\n",
       "1   Kab. Banyuwangi   629  596  Lelang  Rumah Tinggal         1000000   \n",
       "2   Kab. Banyuwangi    29   52  Lelang  Rumah Tinggal         1300000   \n",
       "3   Kab. Banyuwangi   885    0  Lelang   Tanah Kosong         1000000   \n",
       "4   Kab. Banyuwangi  1208  234  Lelang  Rumah Tinggal         1100000   \n",
       "5       Kab. Jember   291  259  Lelang  Rumah Tinggal         2600000   \n",
       "..              ...   ...  ...     ...            ...             ...   \n",
       "72        Kota Batu   113  184  Lelang  Rumah Tinggal         5500000   \n",
       "73      Kota Kediri   138  100  Lelang  Rumah Tinggal         1800000   \n",
       "74      Kota Kediri   138  100  Lelang  Rumah Tinggal         1800000   \n",
       "75      Kota Madiun    84   55  Lelang  Rumah Tinggal         1400000   \n",
       "76     Kab. Nganjuk   402  462  Lelang  Rumah Tinggal          900000   \n",
       "\n",
       "    Jumlah_kamar  Jumlah_kamarmandi  Jumlah_lantai   Pusat_kota  \n",
       "1              1                  1              2  PinggirKota  \n",
       "2              3                  1              2  PinggirKota  \n",
       "3              0                  0              0  PinggirKota  \n",
       "4              2                  1              1  PinggirKota  \n",
       "5              2                  1              2    PusatKota  \n",
       "..           ...                ...            ...          ...  \n",
       "72             4                  1              2    PusatKota  \n",
       "73             2                  1              1    PusatKota  \n",
       "74             2                  1              1    PusatKota  \n",
       "75             2                  1              1    PusatKota  \n",
       "76             2                  1              1    PusatKota  \n",
       "\n",
       "[76 rows x 10 columns]"
      ]
     },
     "execution_count": 4,
     "metadata": {},
     "output_type": "execute_result"
    }
   ],
   "source": [
    "features = [\"Kota/Kabupaten\", \n",
    "\"LT\", \n",
    "\"LB\",\n",
    "\"Tujuan\",\n",
    "\"Obyek\",\n",
    "\"Indikasi_nilai\",\n",
    "\"Jumlah_kamar\",\n",
    "\"Jumlah_kamarmandi\",\n",
    "\"Jumlah_lantai\",\n",
    "\"Pusat_kota\",\n",
    "]\n",
    "\n",
    "data_features = df[features]\n",
    "data_features"
   ]
  },
  {
   "cell_type": "markdown",
   "id": "43c9edc2",
   "metadata": {},
   "source": [
    "# Categorical Encode"
   ]
  },
  {
   "cell_type": "code",
   "execution_count": 5,
   "id": "7ee763c4",
   "metadata": {},
   "outputs": [
    {
     "name": "stderr",
     "output_type": "stream",
     "text": [
      "/tmp/ipykernel_17533/2060821668.py:12: SettingWithCopyWarning: \n",
      "A value is trying to be set on a copy of a slice from a DataFrame.\n",
      "Try using .loc[row_indexer,col_indexer] = value instead\n",
      "\n",
      "See the caveats in the documentation: https://pandas.pydata.org/pandas-docs/stable/user_guide/indexing.html#returning-a-view-versus-a-copy\n",
      "  X[column] = label_encoder.fit_transform(X[column])\n",
      "/tmp/ipykernel_17533/2060821668.py:12: SettingWithCopyWarning: \n",
      "A value is trying to be set on a copy of a slice from a DataFrame.\n",
      "Try using .loc[row_indexer,col_indexer] = value instead\n",
      "\n",
      "See the caveats in the documentation: https://pandas.pydata.org/pandas-docs/stable/user_guide/indexing.html#returning-a-view-versus-a-copy\n",
      "  X[column] = label_encoder.fit_transform(X[column])\n",
      "/tmp/ipykernel_17533/2060821668.py:12: SettingWithCopyWarning: \n",
      "A value is trying to be set on a copy of a slice from a DataFrame.\n",
      "Try using .loc[row_indexer,col_indexer] = value instead\n",
      "\n",
      "See the caveats in the documentation: https://pandas.pydata.org/pandas-docs/stable/user_guide/indexing.html#returning-a-view-versus-a-copy\n",
      "  X[column] = label_encoder.fit_transform(X[column])\n",
      "/tmp/ipykernel_17533/2060821668.py:12: SettingWithCopyWarning: \n",
      "A value is trying to be set on a copy of a slice from a DataFrame.\n",
      "Try using .loc[row_indexer,col_indexer] = value instead\n",
      "\n",
      "See the caveats in the documentation: https://pandas.pydata.org/pandas-docs/stable/user_guide/indexing.html#returning-a-view-versus-a-copy\n",
      "  X[column] = label_encoder.fit_transform(X[column])\n"
     ]
    }
   ],
   "source": [
    "# Assuming df is your DataFrame and the columns are categorical\n",
    "categorical_columns = [\"Kota/Kabupaten\", \"Tujuan\", \"Obyek\", \"Pusat_kota\"]\n",
    "\n",
    "X = data_features\n",
    "\n",
    "j = 1\n",
    "\n",
    "# Apply LabelEncoder to all specified columns\n",
    "label_encoder = LabelEncoder()\n",
    "for column in categorical_columns:\n",
    "    \n",
    "    X[column] = label_encoder.fit_transform(X[column])\n",
    "    dump(label_encoder, str(j)+'.joblib')\n",
    "    j += 1\n",
    "    \n"
   ]
  },
  {
   "cell_type": "code",
   "execution_count": 6,
   "id": "25490d7a",
   "metadata": {},
   "outputs": [
    {
     "name": "stdout",
     "output_type": "stream",
     "text": [
      "    Kota/Kabupaten    LT   LB  Tujuan  Obyek  Indikasi_nilai  Jumlah_kamar  \\\n",
      "1                0   629  596       0      1         1000000             1   \n",
      "2                0    29   52       0      1         1300000             3   \n",
      "3                0   885    0       0      2         1000000             0   \n",
      "4                0  1208  234       0      1         1100000             2   \n",
      "5                1   291  259       0      1         2600000             2   \n",
      "..             ...   ...  ...     ...    ...             ...           ...   \n",
      "72               6   113  184       0      1         5500000             4   \n",
      "73               7   138  100       0      1         1800000             2   \n",
      "74               7   138  100       0      1         1800000             2   \n",
      "75               8    84   55       0      1         1400000             2   \n",
      "76               4   402  462       0      1          900000             2   \n",
      "\n",
      "    Jumlah_kamarmandi  Jumlah_lantai  Pusat_kota  \n",
      "1                   1              2           0  \n",
      "2                   1              2           0  \n",
      "3                   0              0           0  \n",
      "4                   1              1           0  \n",
      "5                   1              2           1  \n",
      "..                ...            ...         ...  \n",
      "72                  1              2           1  \n",
      "73                  1              1           1  \n",
      "74                  1              1           1  \n",
      "75                  1              1           1  \n",
      "76                  1              1           1  \n",
      "\n",
      "[76 rows x 10 columns]\n"
     ]
    }
   ],
   "source": [
    "print(X)"
   ]
  },
  {
   "cell_type": "markdown",
   "id": "ec80efb4",
   "metadata": {},
   "source": [
    "# Setup data target"
   ]
  },
  {
   "cell_type": "code",
   "execution_count": 7,
   "id": "09fcdfce",
   "metadata": {},
   "outputs": [],
   "source": [
    "y = df.Kesimpulan_nilai"
   ]
  },
  {
   "cell_type": "code",
   "execution_count": 8,
   "id": "5879f38c",
   "metadata": {},
   "outputs": [
    {
     "data": {
      "text/plain": [
       "1     1000000\n",
       "2     1300000\n",
       "3     1000000\n",
       "4     1100000\n",
       "5     2600000\n",
       "       ...   \n",
       "72    5500000\n",
       "73    1800000\n",
       "74    1800000\n",
       "75    1400000\n",
       "76     900000\n",
       "Name: Indikasi_nilai, Length: 76, dtype: int64"
      ]
     },
     "execution_count": 8,
     "metadata": {},
     "output_type": "execute_result"
    }
   ],
   "source": [
    "X.Indikasi_nilai"
   ]
  },
  {
   "cell_type": "code",
   "execution_count": 9,
   "id": "f3f45df8",
   "metadata": {},
   "outputs": [
    {
     "name": "stderr",
     "output_type": "stream",
     "text": [
      "/tmp/ipykernel_17533/478602739.py:3: SettingWithCopyWarning: \n",
      "A value is trying to be set on a copy of a slice from a DataFrame.\n",
      "Try using .loc[row_indexer,col_indexer] = value instead\n",
      "\n",
      "See the caveats in the documentation: https://pandas.pydata.org/pandas-docs/stable/user_guide/indexing.html#returning-a-view-versus-a-copy\n",
      "  X.Indikasi_nilai = df.Indikasi_nilai.replace(0, X.Indikasi_nilai.mean())\n"
     ]
    }
   ],
   "source": [
    "## Replace 0 with mean value\n",
    "\n",
    "X.Indikasi_nilai = df.Indikasi_nilai.replace(0, X.Indikasi_nilai.mean())"
   ]
  },
  {
   "cell_type": "code",
   "execution_count": 10,
   "id": "e0d149c5",
   "metadata": {},
   "outputs": [
    {
     "name": "stdout",
     "output_type": "stream",
     "text": [
      "1000000.0\n",
      "1300000.0\n",
      "1000000.0\n",
      "1100000.0\n",
      "2600000.0\n",
      "2800000.0\n",
      "2900000.0\n",
      "6000000.0\n",
      "2000000.0\n",
      "2882434.210526316\n",
      "1200000.0\n",
      "900000.0\n",
      "700000.0\n",
      "1250000.0\n",
      "3900000.0\n",
      "950000.0\n",
      "750000.0\n",
      "750000.0\n",
      "1200000.0\n",
      "900000.0\n",
      "630000.0\n",
      "300000.0\n",
      "2600000.0\n",
      "230000.0\n",
      "45000.0\n",
      "2100000.0\n",
      "1300000.0\n",
      "3100000.0\n",
      "2100000.0\n",
      "1850000.0\n",
      "1100000.0\n",
      "110000.0\n",
      "2500000.0\n",
      "2500000.0\n",
      "2100000.0\n",
      "2882434.210526316\n",
      "1300000.0\n",
      "3100000.0\n",
      "4600000.0\n",
      "12000000.0\n",
      "4100000.0\n",
      "5800000.0\n",
      "4700000.0\n",
      "4150000.0\n",
      "3200000.0\n",
      "5750000.0\n",
      "6800000.0\n",
      "4500000.0\n",
      "5300000.0\n",
      "2550000.0\n",
      "5200000.0\n",
      "4700000.0\n",
      "7200000.0\n",
      "6500000.0\n",
      "6200000.0\n",
      "3300000.0\n",
      "6700000.0\n",
      "5800000.0\n",
      "4900000.0\n",
      "2500000.0\n",
      "3500000.0\n",
      "3750000.0\n",
      "2500000.0\n",
      "2900000.0\n",
      "2400000.0\n",
      "2400000.0\n",
      "4300000.0\n",
      "2600000.0\n",
      "2900000.0\n",
      "2882434.210526316\n",
      "3800000.0\n",
      "5500000.0\n",
      "1800000.0\n",
      "1800000.0\n",
      "1400000.0\n",
      "900000.0\n"
     ]
    }
   ],
   "source": [
    "for x in X.Indikasi_nilai:\n",
    "    print(x)"
   ]
  },
  {
   "cell_type": "code",
   "execution_count": 11,
   "id": "4e12955a",
   "metadata": {},
   "outputs": [
    {
     "data": {
      "image/png": "[encoded data removed]",
      "text/plain": [
       "<Figure size 640x480 with 1 Axes>"
      ]
     },
     "metadata": {},
     "output_type": "display_data"
    }
   ],
   "source": [
    "sns.scatterplot(x=df['LT'], y=y)\n",
    "plt.show()\n"
   ]
  },
  {
   "cell_type": "code",
   "execution_count": 12,
   "id": "1f2ee03a",
   "metadata": {},
   "outputs": [
    {
     "data": {
      "image/png": "[encoded data removed]",
      "text/plain": [
       "<Figure size 640x480 with 1 Axes>"
      ]
     },
     "metadata": {},
     "output_type": "display_data"
    }
   ],
   "source": [
    "sns.boxplot(x=df['Kota/Kabupaten'], y=y)\n",
    "plt.show()\n"
   ]
  },
  {
   "cell_type": "code",
   "execution_count": null,
   "id": "a8fa4b2f",
   "metadata": {},
   "outputs": [],
   "source": []
  },
  {
   "cell_type": "code",
   "execution_count": 13,
   "id": "590ae8f4",
   "metadata": {},
   "outputs": [
    {
     "data": {
      "image/png": "[encoded data removed]",
      "text/plain": [
       "<Figure size 640x480 with 1 Axes>"
      ]
     },
     "metadata": {},
     "output_type": "display_data"
    }
   ],
   "source": [
    "sns.boxplot(x=df[\"Obyek\"], y=y)\n",
    "plt.show()"
   ]
  },
  {
   "cell_type": "code",
   "execution_count": 14,
   "id": "959f15f5",
   "metadata": {},
   "outputs": [
    {
     "data": {
      "image/png": "[encoded data removed]",
      "text/plain": [
       "<Figure size 640x480 with 1 Axes>"
      ]
     },
     "metadata": {},
     "output_type": "display_data"
    }
   ],
   "source": [
    "sns.boxplot(x=df[\"Pusat_kota\"], y=y)\n",
    "plt.show()"
   ]
  },
  {
   "cell_type": "code",
   "execution_count": 15,
   "id": "dd860354",
   "metadata": {},
   "outputs": [
    {
     "name": "stdout",
     "output_type": "stream",
     "text": [
      "LT                   0.030373\n",
      "LB                   0.814454\n",
      "Indikasi_nilai       0.543462\n",
      "Jumlah_kamar         0.290673\n",
      "Jumlah_kamarmandi    0.308836\n",
      "Jumlah_lantai        0.389262\n",
      "Kesimpulan_nilai     1.000000\n",
      "Name: Kesimpulan_nilai, dtype: float64\n"
     ]
    },
    {
     "name": "stderr",
     "output_type": "stream",
     "text": [
      "/tmp/ipykernel_17533/371763467.py:1: FutureWarning: The default value of numeric_only in DataFrame.corr is deprecated. In a future version, it will default to False. Select only valid columns or specify the value of numeric_only to silence this warning.\n",
      "  correlation_matrix = df[features + ['Kesimpulan_nilai']].corr()\n"
     ]
    }
   ],
   "source": [
    "correlation_matrix = df[features + ['Kesimpulan_nilai']].corr()\n",
    "print(correlation_matrix['Kesimpulan_nilai'])\n"
   ]
  },
  {
   "cell_type": "markdown",
   "id": "dfe984f1",
   "metadata": {},
   "source": [
    "## Change data to All INT"
   ]
  },
  {
   "cell_type": "raw",
   "id": "42d92cd4",
   "metadata": {},
   "source": [
    "## Replace 0 with mean value\n",
    "X.Indikasi_nilai = df.Indikasi_nilai.replace(0, X.Indikasi_nilai.mean())\n",
    "\n",
    "X = X.astype(int)\n",
    "y = y.astype(int)"
   ]
  },
  {
   "cell_type": "code",
   "execution_count": 16,
   "id": "4a538e76",
   "metadata": {},
   "outputs": [
    {
     "data": {
      "text/plain": [
       "Kota/Kabupaten         int64\n",
       "LT                     int64\n",
       "LB                     int64\n",
       "Tujuan                 int64\n",
       "Obyek                  int64\n",
       "Indikasi_nilai       float64\n",
       "Jumlah_kamar           int64\n",
       "Jumlah_kamarmandi      int64\n",
       "Jumlah_lantai          int64\n",
       "Pusat_kota             int64\n",
       "dtype: object"
      ]
     },
     "execution_count": 16,
     "metadata": {},
     "output_type": "execute_result"
    }
   ],
   "source": [
    "##Check Columns Types\n",
    "\n",
    "X.dtypes"
   ]
  },
  {
   "cell_type": "code",
   "execution_count": 17,
   "id": "23e45230",
   "metadata": {},
   "outputs": [
    {
     "data": {
      "text/plain": [
       "dtype('int64')"
      ]
     },
     "execution_count": 17,
     "metadata": {},
     "output_type": "execute_result"
    }
   ],
   "source": [
    "y.dtypes"
   ]
  },
  {
   "cell_type": "markdown",
   "id": "d534a6f0",
   "metadata": {},
   "source": [
    "# Random Forest Regressor"
   ]
  },
  {
   "cell_type": "code",
   "execution_count": 18,
   "id": "2640d4cc",
   "metadata": {},
   "outputs": [
    {
     "data": {
      "image/png": "[encoded data removed]",
      "text/plain": [
       "<Figure size 1000x800 with 1 Axes>"
      ]
     },
     "metadata": {},
     "output_type": "display_data"
    }
   ],
   "source": [
    "X_train, X_test, y_train, y_test = train_test_split(X, y, test_size=0.2, random_state=42)\n",
    "\n",
    "# Create and train the Random Forest Regressor\n",
    "rf_regressor = RandomForestRegressor()\n",
    "rf_regressor.fit(X_train, y_train)\n",
    "\n",
    "# Make predictions on the test set\n",
    "predictions = rf_regressor.predict(X_test)\n",
    "\n",
    "# Visualize an individual tree (for example, the first tree)\n",
    "plt.figure(figsize=(10, 8))\n",
    "plot_tree(rf_regressor.estimators_[0], feature_names=[\"Kota/Kabupaten\", \n",
    "\"LT\", \n",
    "\"LB\",\n",
    "\"Tujuan\",\n",
    "\"Obyek\",\n",
    "\"Indikasi_nilai\",\n",
    "\"Jumlah_kamar\",\n",
    "\"Jumlah_kamarmandi\",\n",
    "\"Jumlah_lantai\",\n",
    "\"Pusat_kota\",\n",
    "], filled=True, rounded=True)\n",
    "plt.show()\n",
    "\n",
    "# Evaluate the model\n",
    "#rmse = np.sqrt(mean_squared_error(y_test, predictions))\n",
    "#print(f'Mean Squared Error: {rmse}')"
   ]
  },
  {
   "cell_type": "code",
   "execution_count": null,
   "id": "bb226ed3",
   "metadata": {},
   "outputs": [],
   "source": []
  },
  {
   "cell_type": "code",
   "execution_count": 19,
   "id": "aff02572",
   "metadata": {},
   "outputs": [],
   "source": [
    "### random forest function\n",
    "\n",
    "def predict(test_size , model_name):\n",
    "    X_train, X_test, y_train, y_test = train_test_split(X, y, test_size=test_size, random_state=42)\n",
    "\n",
    "    # Create and train the Random Forest Regressor\n",
    "    rf_regressor = RandomForestRegressor()\n",
    "    rf_regressor.fit(X_train, y_train)\n",
    "\n",
    "    # Make predictions on the test set\n",
    "    predictions = rf_regressor.predict(X_test)\n",
    "    \n",
    "    \n",
    "    \n",
    "    dump(rf_regressor, model_name+'.joblib')\n",
    "    \n",
    "    \n",
    "\n",
    "    # Evaluate the model\n",
    "    #rmse = np.sqrt(mean_squared_error(y_test, predictions))\n",
    "    #print(f'Mean Squared Error: {rmse}')\n",
    "    return 0"
   ]
  },
  {
   "cell_type": "code",
   "execution_count": 20,
   "id": "90a6ccbb",
   "metadata": {},
   "outputs": [],
   "source": [
    "## run model\n",
    "#predict(0.1, \"Model1\")\n",
    "#predict(0.2, \"Model2\")\n",
    "#predict(0.3, \"Model3\")\n",
    "#predict(0.4, \"Model4\")\n",
    "#predict(0.5, \"Model5\")"
   ]
  },
  {
   "cell_type": "code",
   "execution_count": null,
   "id": "031b2db5",
   "metadata": {},
   "outputs": [],
   "source": []
  },
  {
   "cell_type": "markdown",
   "id": "0c3c4e06",
   "metadata": {},
   "source": [
    "# Check y_test and Predictions"
   ]
  },
  {
   "cell_type": "code",
   "execution_count": 21,
   "id": "9218c5d9",
   "metadata": {},
   "outputs": [
    {
     "data": {
      "text/plain": [
       "5     1658100000\n",
       "36     710000000\n",
       "11     467700000\n",
       "1     1692200000\n",
       "46    1061000000\n",
       "48     513000000\n",
       "66     574000000\n",
       "54    1673000000\n",
       "51     900000000\n",
       "29     240000000\n",
       "68     502000000\n",
       "71     498000000\n",
       "19     206400000\n",
       "13    1348000000\n",
       "59    1117000000\n",
       "34    1320000000\n",
       "Name: Kesimpulan_nilai, dtype: int64"
      ]
     },
     "execution_count": 21,
     "metadata": {},
     "output_type": "execute_result"
    }
   ],
   "source": [
    "y_test"
   ]
  },
  {
   "cell_type": "code",
   "execution_count": 22,
   "id": "1814ba45",
   "metadata": {},
   "outputs": [
    {
     "name": "stdout",
     "output_type": "stream",
     "text": [
      "1900657000.0\n",
      "425197000.0\n",
      "797964500.0\n",
      "3406444000.0\n",
      "721365000.0\n",
      "557310000.0\n",
      "930176500.0\n",
      "1402867000.0\n",
      "665440000.0\n",
      "337340000.0\n",
      "442077000.0\n",
      "515720000.0\n",
      "753156900.0\n",
      "2496610500.0\n",
      "1090845000.0\n",
      "1872369000.0\n"
     ]
    }
   ],
   "source": [
    "for x in predictions:\n",
    "    print(x)"
   ]
  },
  {
   "cell_type": "code",
   "execution_count": 23,
   "id": "34019ede",
   "metadata": {},
   "outputs": [
    {
     "data": {
      "text/plain": [
       "array([1.9006570e+09, 4.2519700e+08, 7.9796450e+08, 3.4064440e+09,\n",
       "       7.2136500e+08, 5.5731000e+08, 9.3017650e+08, 1.4028670e+09,\n",
       "       6.6544000e+08, 3.3734000e+08, 4.4207700e+08, 5.1572000e+08,\n",
       "       7.5315690e+08, 2.4966105e+09, 1.0908450e+09, 1.8723690e+09])"
      ]
     },
     "execution_count": 23,
     "metadata": {},
     "output_type": "execute_result"
    }
   ],
   "source": [
    "predictions"
   ]
  },
  {
   "cell_type": "markdown",
   "id": "e8aac991",
   "metadata": {},
   "source": [
    "# Evaluation"
   ]
  },
  {
   "cell_type": "markdown",
   "id": "47b80d5d",
   "metadata": {},
   "source": [
    "## Mean Squared Error"
   ]
  },
  {
   "cell_type": "code",
   "execution_count": 24,
   "id": "03554b5a",
   "metadata": {},
   "outputs": [
    {
     "name": "stdout",
     "output_type": "stream",
     "text": [
      "Total Error:\n",
      "6265557400.0\n",
      "Mean Error:\n",
      "391597337.5\n"
     ]
    }
   ],
   "source": [
    "# Mean Squared Error\n",
    "error = abs(y_test - predictions)\n",
    "\n",
    "total_error = sum(error)\n",
    "mean_error = total_error / len(y_test)\n",
    "\n",
    "print(\"Total Error:\")\n",
    "print(total_error)\n",
    "\n",
    "print(\"Mean Error:\")\n",
    "print(mean_error)\n"
   ]
  },
  {
   "cell_type": "markdown",
   "id": "78929cd2",
   "metadata": {},
   "source": [
    "# "
   ]
  },
  {
   "cell_type": "code",
   "execution_count": 25,
   "id": "fc93734c",
   "metadata": {},
   "outputs": [
    {
     "name": "stdout",
     "output_type": "stream",
     "text": [
      "Mean Percentage Error:\n",
      "51.369934357994914\n"
     ]
    }
   ],
   "source": [
    "import numpy as np\n",
    "\n",
    "# Assuming y_test and predictions are your actual and predicted values\n",
    "percentage_error = (   abs(y_test - predictions) / y_test) * 100\n",
    "\n",
    "mean_percentage_error = np.mean(percentage_error)\n",
    "\n",
    "print(\"Mean Percentage Error:\")\n",
    "print(mean_percentage_error)"
   ]
  },
  {
   "cell_type": "code",
   "execution_count": 26,
   "id": "d869d7c3",
   "metadata": {},
   "outputs": [
    {
     "data": {
      "text/plain": [
       "43.269228750587004"
      ]
     },
     "execution_count": 26,
     "metadata": {},
     "output_type": "execute_result"
    }
   ],
   "source": [
    "(sum(error)/sum(y_test))*100"
   ]
  },
  {
   "cell_type": "code",
   "execution_count": 27,
   "id": "d0b7fdc6",
   "metadata": {},
   "outputs": [
    {
     "name": "stdout",
     "output_type": "stream",
     "text": [
      "Error to Total Test Value\n",
      "43.269228750587004\n"
     ]
    }
   ],
   "source": [
    "total_percentage_error = (np.sum(error) / np.sum(y_test)) * 100\n",
    "\n",
    "print(\"Error to Total Test Value\")\n",
    "print(total_percentage_error)"
   ]
  },
  {
   "cell_type": "code",
   "execution_count": null,
   "id": "3ab0ed4d",
   "metadata": {},
   "outputs": [],
   "source": []
  },
  {
   "cell_type": "code",
   "execution_count": null,
   "id": "192efe81",
   "metadata": {},
   "outputs": [],
   "source": []
  },
  {
   "cell_type": "code",
   "execution_count": null,
   "id": "62cf21a9",
   "metadata": {},
   "outputs": [],
   "source": []
  },
  {
   "cell_type": "code",
   "execution_count": null,
   "id": "0566d3a4",
   "metadata": {},
   "outputs": [],
   "source": []
  },
  {
   "cell_type": "code",
   "execution_count": null,
   "id": "acbc1d94",
   "metadata": {},
   "outputs": [],
   "source": []
  },
  {
   "cell_type": "code",
   "execution_count": null,
   "id": "026b2d8a",
   "metadata": {},
   "outputs": [],
   "source": []
  },
  {
   "cell_type": "markdown",
   "id": "58b33f6e",
   "metadata": {},
   "source": [
    "# Compare to linier regression"
   ]
  },
  {
   "cell_type": "code",
   "execution_count": null,
   "id": "4f64755d",
   "metadata": {},
   "outputs": [],
   "source": [
    "X_train, X_test, y_train, y_test = train_test_split(X, y, test_size=0.2, random_state=42)\n",
    "\n",
    "# Create and train the Linear Regression model\n",
    "linear_reg_model = LinearRegression()\n",
    "linear_reg_model.fit(X_train, y_train)\n",
    "\n",
    "# Make predictions on the test set\n",
    "predictlinier = linear_reg_model.predict(X_test)\n",
    "\n",
    "# Evaluate the model\n",
    "rmse = np.sqrt(mean_squared_error(y_test, predictlinier))\n",
    "print(f'Mean Squared Error: {rmse}')"
   ]
  },
  {
   "cell_type": "code",
   "execution_count": null,
   "id": "5578eec4",
   "metadata": {},
   "outputs": [],
   "source": [
    "error2 = abs(y_test - predictlinier)\n",
    "\n",
    "total_error2 = sum(error2)\n",
    "mean_error2 = total_error2 / len(y_test)\n",
    "\n",
    "print(\"Total Error:\")\n",
    "print(total_error2)\n",
    "\n",
    "print(\"Mean Error:\")\n",
    "print(mean_error2)"
   ]
  },
  {
   "cell_type": "code",
   "execution_count": null,
   "id": "4d22cf58",
   "metadata": {},
   "outputs": [],
   "source": [
    "predictions"
   ]
  },
  {
   "cell_type": "code",
   "execution_count": null,
   "id": "8a550180",
   "metadata": {},
   "outputs": [],
   "source": []
  },
  {
   "cell_type": "code",
   "execution_count": null,
   "id": "362dbb40",
   "metadata": {},
   "outputs": [],
   "source": []
  },
  {
   "cell_type": "code",
   "execution_count": null,
   "id": "9c2c1b5d",
   "metadata": {},
   "outputs": [],
   "source": []
  },
  {
   "cell_type": "code",
   "execution_count": null,
   "id": "0e60dad7",
   "metadata": {},
   "outputs": [],
   "source": []
  }
 ],
 "metadata": {
  "kernelspec": {
   "display_name": "Python 3 (ipykernel)",
   "language": "python",
   "name": "python3"
  },
  "language_info": {
   "codemirror_mode": {
    "name": "ipython",
    "version": 3
   },
   "file_extension": ".py",
   "mimetype": "text/x-python",
   "name": "python",
   "nbconvert_exporter": "python",
   "pygments_lexer": "ipython3",
   "version": "3.11.5"
  }
 },
 "nbformat": 4,
 "nbformat_minor": 5
}
